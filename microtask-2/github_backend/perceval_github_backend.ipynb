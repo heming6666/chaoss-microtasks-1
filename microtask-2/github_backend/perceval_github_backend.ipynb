{
 "cells": [
  {
   "cell_type": "markdown",
   "metadata": {},
   "source": [
    "## Microtask #2 : GitHub Backend\n",
    ">To create a Python script to execute [Perceval](https://github.com/chaoss/grimoirelab-perceval) via its Python interface using the *GitHub* backend.\n",
    "\n",
    "#### What is [Perceval](https://github.com/chaoss/grimoirelab-perceval) ?\n",
    "- Perceval is a Python module for retrieving data from repositories related to software development. It works with many data sources, from Git repositories and GitHub projects to mailing lists, Gerrit or StackOverflow.\n",
    "\n",
    "> In this notebook, we'll be using `github` backend module to retrieve information from a selected repository. \n",
    "> Documentation for GitHub backend can be found [here](https://perceval.readthedocs.io/en/latest/perceval.backends.core.html#module-perceval.backends.core.github)\n",
    "\n",
    "**NOTE:** To avoid the problems due to unauthenticated access to the GitHub API, we can use the Perceval GitHub backend with authentication [GitHub](http://github.com) API Token in order to retrieve information.\n",
    "\n",
    "> it's suggested in order to reproduce results you can get your own API Token by registering a new OAuth App [here](https://github.com/settings/tokens/new) ( and import it as shown below )\n",
    "\n",
    "**We'll start off by importing required modules**"
   ]
  },
  {
   "cell_type": "code",
   "execution_count": 1,
   "metadata": {},
   "outputs": [],
   "source": [
    "from perceval.backends.core.github import ( GitHub, \n",
    "                                            CATEGORY_ISSUE, CATEGORY_PULL_REQUEST)\n",
    "from datetime import datetime\n",
    "from pprint import pprint\n",
    "import json\n",
    "\n",
    "# Importing GitHub API Token \n",
    "from config import API_TOKEN "
   ]
  },
  {
   "cell_type": "markdown",
   "metadata": {},
   "source": [
    "* The `GitHub` Backend class required two mandatory arguments\n",
    "    - `owner` – GitHub owner\n",
    "    - `api_token` – GitHub auth token to access the API"
   ]
  },
  {
   "cell_type": "code",
   "execution_count": 2,
   "metadata": {},
   "outputs": [],
   "source": [
    "REPOSITORY_NAME = \"MeetInTheMiddle\"\n",
    "\n",
    "# Initializing the GitHub backend\n",
    "github_backend = GitHub(owner=\"inishchith\", api_token=API_TOKEN, repository=REPOSITORY_NAME)"
   ]
  },
  {
   "cell_type": "markdown",
   "metadata": {},
   "source": [
    "Tip: There are two ways of using the `GitHub` backend\n",
    "    - Without authenticating: uses Github class\n",
    "    - Authenticating using API Token: here Github class calls initiation of `GithubClient` class\n",
    "\n",
    "**Printing out some general data**"
   ]
  },
  {
   "cell_type": "code",
   "execution_count": 3,
   "metadata": {},
   "outputs": [
    {
     "name": "stdout",
     "output_type": "stream",
     "text": [
      "inishchith\n",
      "['issue', 'pull_request']\n",
      "MeetInTheMiddle\n",
      "https://github.com/inishchith/MeetInTheMiddle\n"
     ]
    }
   ],
   "source": [
    "print(github_backend.owner)\n",
    "\n",
    "# Categories of information which can be retrieved\n",
    "print(github_backend.categories)\n",
    "\n",
    "print(github_backend.repository)\n",
    "print(github_backend.origin)"
   ]
  },
  {
   "cell_type": "markdown",
   "metadata": {},
   "source": [
    "As you can see that, we can retrieve two types of information from the specified GitHub repository - ISSUES & PULL REQUESTS.\n",
    "\n",
    "**We'll now try to [`fetch()`](https://github.com/chaoss/grimoirelab-perceval/blob/805d73122b871c29146a70601d8f3d78267b41e1/perceval/backends/core/github.py#L112) ISSUEs information from the github repository**\n",
    "- The `fetch()` method returns a generator, we'll convert it to a list for our convenience\n",
    "- We can alternatively call `__fetch_issues()` which does the same task"
   ]
  },
  {
   "cell_type": "code",
   "execution_count": 4,
   "metadata": {},
   "outputs": [
    {
     "name": "stdout",
     "output_type": "stream",
     "text": [
      "NUMBER OF ISSUES:  5\n"
     ]
    }
   ],
   "source": [
    "# Datetime range in which ISSUEs information is to be fetched\n",
    "from_date = datetime(2019, 1, 1)\n",
    "to_date = datetime(2019,2,2)\n",
    "\n",
    "# Calling fetch method\n",
    "range_issues = github_backend.fetch(category=CATEGORY_ISSUE, from_date=from_date, to_date=to_date)\n",
    "range_issues_list = list(range_issues)\n",
    "n_issues = len(range_issues_list)\n",
    "print(\"NUMBER OF ISSUES: \", n_issues)"
   ]
  },
  {
   "cell_type": "markdown",
   "metadata": {},
   "source": [
    "**Let's check the structure of one of the issues.**\n",
    "\n",
    "- Note: we'll dump the data to JSON file as the result is too large to view. You can view the file [here](./issue.json)."
   ]
  },
  {
   "cell_type": "code",
   "execution_count": 6,
   "metadata": {},
   "outputs": [
    {
     "name": "stdout",
     "output_type": "stream",
     "text": [
      "Attributes of issue JSON document: \n",
      "dict_keys(['backend_name', 'backend_version', 'perceval_version', 'timestamp', 'origin', 'uuid', 'updated_on', 'category', 'tag', 'data'])\n"
     ]
    }
   ],
   "source": [
    "last_issue = range_issues_list[n_issues-1]\n",
    "print(\"Attributes of issue JSON document: \")\n",
    "print(last_issue.keys())\n",
    "\n",
    "with open(\"issue.json\", \"w\") as write_file:\n",
    "    json.dump(last_issue, write_file)"
   ]
  },
  {
   "cell_type": "markdown",
   "metadata": {},
   "source": [
    "<hr>\n",
    "\n",
    "**`timestamp`** - Field is a Unix Timestamp conversion of the time when the `.fetch()` method is executed in UTC (Universal Time Coordinated) time scale.\n",
    "\n",
    "**`updated_on`** - Field is a Unix Timestamp conversion of last update datetime in UTC (Universal Time Coordinated) time scale of the GitHub Item set via retrieving the `update time` of the corresponding GitHub Repository. ( More like last modified time )\n",
    "\n",
    "* Tip: We can a tool called [unixtimestamp](https://www.unixtimestamp.com/index.php) to check the cross conversion.\n",
    "\n",
    "**Let us now print out some useful information from all the fetched issues such as Username, Association type, Comment Created at, Issue Comment**"
   ]
  },
  {
   "cell_type": "code",
   "execution_count": 7,
   "metadata": {},
   "outputs": [
    {
     "name": "stdout",
     "output_type": "stream",
     "text": [
      "----------------------------------------------------------------------------------------------------\n",
      "TITLE:  Same location bug\n",
      "CLOSED AT:  2019-01-16T15:23:59Z\n",
      "No of comments:  1\n",
      "Issue Creator Username:  BraunEduardo\n",
      "\tUser Association type with repository: NONE\n",
      "\tCreated at: 2019-01-12T17:48:43Z\n",
      "\tComment: It's possible to add same location twice (feature i guess, should keep it), but when removing, it removes all repeated locations keeping just one, rendering the map again for each remove.\r\n",
      "The final render shows wrong midway, I think it keeps removed locations somewhere and search for midway with they included.\n",
      "\n",
      "Username:  inishchith\n",
      "\tUser Association type with repository: OWNER\n",
      "\tCreated at: 2019-01-16T15:23:59Z\n",
      "\tComment: Thanks for the suggestion, I personally think this addition would be irrelevant. Feel free to get back and reopen if you have some additions related to this ;)\n",
      "\n",
      "----------------------------------------------------------------------------------------------------\n",
      "----------------------------------------------------------------------------------------------------\n",
      "TITLE:  First place added isn't listed\n",
      "CLOSED AT:  2019-01-16T15:24:46Z\n",
      "No of comments:  1\n",
      "Issue Creator Username:  BraunEduardo\n",
      "\tUser Association type with repository: NONE\n",
      "\tCreated at: 2019-01-12T17:44:21Z\n",
      "\tComment: First place added isn't listed until adding another one.\n",
      "\n",
      "Username:  ptalmeida\n",
      "\tUser Association type with repository: NONE\n",
      "\tCreated at: 2019-01-14T15:45:33Z\n",
      "\tComment: There is a marker when you add the first place.\n",
      "\n",
      "----------------------------------------------------------------------------------------------------\n",
      "----------------------------------------------------------------------------------------------------\n",
      "TITLE:  Empty input adding location\n",
      "CLOSED AT:  2019-01-16T15:24:46Z\n",
      "No of comments:  0\n",
      "Issue Creator Username:  BraunEduardo\n",
      "\tUser Association type with repository: NONE\n",
      "\tCreated at: 2019-01-12T17:50:16Z\n",
      "\tComment: After adding a place, clicking in add button again will add it again instead of alerting for empty location.\n",
      "\n",
      "----------------------------------------------------------------------------------------------------\n",
      "----------------------------------------------------------------------------------------------------\n",
      "TITLE:  Place type selection\n",
      "CLOSED AT:  None\n",
      "No of comments:  1\n",
      "Issue Creator Username:  BraunEduardo\n",
      "\tUser Association type with repository: NONE\n",
      "\tCreated at: 2019-01-12T17:57:01Z\n",
      "\tComment: Would be nice to have a place type selection, letting the user specify what place would be marked on map.\n",
      "\n",
      "Username:  inishchith\n",
      "\tUser Association type with repository: OWNER\n",
      "\tCreated at: 2019-01-18T12:24:31Z\n",
      "\tComment: Related : Closes #4 \n",
      "\n",
      "----------------------------------------------------------------------------------------------------\n",
      "----------------------------------------------------------------------------------------------------\n",
      "TITLE:  Not interactive POI\n",
      "CLOSED AT:  2019-01-18T12:26:09Z\n",
      "No of comments:  1\n",
      "Issue Creator Username:  BraunEduardo\n",
      "\tUser Association type with repository: NONE\n",
      "\tCreated at: 2019-01-12T17:45:54Z\n",
      "\tComment: Other points of interest inside highlight are not interactive, I would suggest showing the places returned in midway area with Google's default POI, using place types to filter, but not sure that's possible.\n",
      "\n",
      "Username:  inishchith\n",
      "\tUser Association type with repository: OWNER\n",
      "\tCreated at: 2019-01-16T15:12:41Z\n",
      "\tComment: Possible. Would add this a bit later. Thanks for the suggestion ;)\n",
      "\n",
      "----------------------------------------------------------------------------------------------------\n"
     ]
    }
   ],
   "source": [
    "for issue in range_issues_list:\n",
    "    print(\"-\"*100)\n",
    "    \n",
    "    # Issue Title\n",
    "    print(\"TITLE: \",issue[\"data\"][\"title\"])\n",
    "    # Issue Closed at \n",
    "    print(\"CLOSED AT: \", issue[\"data\"][\"closed_at\"])\n",
    "    # Number of comments that the issue received\n",
    "    print(\"No of comments: \", issue[\"data\"][\"comments\"])\n",
    "    \n",
    "    # Issue creator details\n",
    "    print(\"Issue Creator Username: \", issue[\"data\"][\"user\"][\"login\"])\n",
    "    print(\"\\tUser Association type with repository: {association}\\n\\tCreated at: {created}\\n\\tComment: {comment}\\n\".format(association=issue[\"data\"][\"author_association\"], comment=issue[\"data\"][\"body\"],created=issue[\"data\"][\"created_at\"]))\n",
    "    \n",
    "    # Issue comments details\n",
    "    comments_data = issue[\"data\"][\"comments_data\"]\n",
    "    for comment in comments_data:\n",
    "        print(\"Username: \", comment[\"user\"][\"login\"])\n",
    "        print(\"\\tUser Association type with repository: {association}\\n\\tCreated at: {created}\\n\\tComment: {comment}\\n\".format(association=comment[\"author_association\"], comment=comment[\"body\"],created=comment[\"created_at\"]))\n",
    "    \n",
    "    print(\"-\"*100)"
   ]
  },
  {
   "cell_type": "markdown",
   "metadata": {},
   "source": [
    "**We'll now try to [`fetch()`](https://github.com/chaoss/grimoirelab-perceval/blob/805d73122b871c29146a70601d8f3d78267b41e1/perceval/backends/core/github.py#L112) PULL REQUESTs information from the github repository**\n",
    "- The `fetch()` method returns a generator, we'll convert it to a list for our convenience\n",
    "- We can alternatively call `__fetch_pull_requests()` which does the same task"
   ]
  },
  {
   "cell_type": "code",
   "execution_count": 8,
   "metadata": {},
   "outputs": [
    {
     "name": "stdout",
     "output_type": "stream",
     "text": [
      "NUMBER OF PULL REQUESTS:  3\n"
     ]
    }
   ],
   "source": [
    "# Datetime range in which PULL REQUESTs information is to be fetched\n",
    "from_date = datetime(2018, 10, 1)\n",
    "to_date = datetime(2019, 2, 10)\n",
    "\n",
    "# Calling fetch method\n",
    "pull_requests = github_backend.fetch(category=CATEGORY_PULL_REQUEST, from_date=from_date, to_date=to_date)\n",
    "range_pull_request_list = list(pull_requests)\n",
    "n_pulls = len(range_pull_request_list)\n",
    "print(\"NUMBER OF PULL REQUESTS: \", n_pulls)"
   ]
  },
  {
   "cell_type": "markdown",
   "metadata": {},
   "source": [
    "**Let's check the structure of one of the pull request.**\n",
    "\n",
    "- Note: we'll dump the data to JSON file as the result is too large to view. You can view the file [here](./pull_request.json)."
   ]
  },
  {
   "cell_type": "code",
   "execution_count": 9,
   "metadata": {},
   "outputs": [],
   "source": [
    "with open(\"pull_request.json\", \"w\") as write_file:\n",
    "    json.dump(range_pull_request_list[n_pulls-1], write_file)"
   ]
  },
  {
   "cell_type": "markdown",
   "metadata": {},
   "source": [
    "**Let us now print out some useful information from all the fetched pull requests such as Pull request message, Merged / Closed / Open details, Additions / Deletions and many more**"
   ]
  },
  {
   "cell_type": "code",
   "execution_count": 10,
   "metadata": {},
   "outputs": [
    {
     "name": "stdout",
     "output_type": "stream",
     "text": [
      "----------------------------------------------------------------------------------------------------\n",
      "#2: Improve grammar for the information message\n",
      "Pull Request State:  closed\n",
      "\n",
      "Merged:  True\n",
      "Merged at:  2018-12-14T11:28:38Z\n",
      "Number of comments:  0\n",
      "\n",
      "Additions: +4\n",
      "Deletions: -4\n",
      "\n",
      "Number of Commits: 1\n",
      "Number of files changed: 1\n",
      "Username:  mehmetseckin\n",
      "\tUser Association type with repository: CONTRIBUTOR\n",
      "\tCreated at: 2018-12-14T11:20:27Z\n",
      "\tComment: Replaced `You're` with `Your`, I think that is the correct word to use in the information message.\n",
      "\n",
      "----------------------------------------------------------------------------------------------------\n",
      "----------------------------------------------------------------------------------------------------\n",
      "#10: Feat/redesigning\n",
      "Pull Request State:  closed\n",
      "\n",
      "Merged:  True\n",
      "Merged at:  2019-02-03T18:05:24Z\n",
      "Number of comments:  7\n",
      "\n",
      "Additions: +306\n",
      "Deletions: -260\n",
      "\n",
      "Number of Commits: 5\n",
      "Number of files changed: 6\n",
      "Username:  zikosichi\n",
      "\tUser Association type with repository: CONTRIBUTOR\n",
      "\tCreated at: 2019-02-03T16:38:36Z\n",
      "\tComment: Complete redesign of the application. Enjoy :)\r\n",
      "\r\n",
      "![image](https://user-images.githubusercontent.com/16005795/52179390-54c41080-27da-11e9-8fb7-256fdb778169.png)\r\n",
      "\r\n",
      "![image](https://user-images.githubusercontent.com/16005795/52179397-7cb37400-27da-11e9-8a6a-694828d829d5.png)\r\n",
      "\n",
      "\n",
      "----------------------------------------------------------------------------------------------------\n",
      "----------------------------------------------------------------------------------------------------\n",
      "#11: Feat/redesigning - Fix style issues for mobile viewport\n",
      "Pull Request State:  closed\n",
      "\n",
      "Merged:  True\n",
      "Merged at:  2019-02-04T02:10:32Z\n",
      "Number of comments:  1\n",
      "\n",
      "Additions: +10\n",
      "Deletions: -8\n",
      "\n",
      "Number of Commits: 2\n",
      "Number of files changed: 1\n",
      "Username:  zikosichi\n",
      "\tUser Association type with repository: CONTRIBUTOR\n",
      "\tCreated at: 2019-02-03T19:58:21Z\n",
      "\tComment: \n",
      "\n",
      "----------------------------------------------------------------------------------------------------\n"
     ]
    }
   ],
   "source": [
    "for pull_request in range_pull_request_list:\n",
    "    print(\"-\"*100)\n",
    "    \n",
    "    # Pull request Number and Title\n",
    "    print(\"#{pull_request}: {title}\".format(pull_request=pull_request[\"data\"][\"number\"], title=pull_request[\"data\"][\"title\"]))\n",
    "    \n",
    "    # Pull request state [ open / closed ]\n",
    "    print(\"Pull Request State: \", pull_request[\"data\"][\"state\"])\n",
    "    \n",
    "    # Merged True / False\n",
    "    print(\"\\nMerged: \", pull_request[\"data\"][\"merged\"])\n",
    "    \n",
    "    if pull_request[\"data\"][\"merged\"]:\n",
    "        print(\"Merged at: \", pull_request[\"data\"][\"merged_at\"])\n",
    "    else:\n",
    "        print(\"Closed at: \", pull_request[\"data\"][\"closed_at\"])\n",
    "    \n",
    "    print(\"Number of comments: \", pull_request[\"data\"][\"comments\"])\n",
    "\n",
    "    print(\"\\nAdditions: +{adds}\\nDeletions: -{dels}\".format(adds=pull_request[\"data\"][\"additions\"], dels=pull_request[\"data\"][\"deletions\"]))\n",
    "    \n",
    "    print(\"\\nNumber of Commits: {commits}\\nNumber of files changed: {file_changes}\".format(commits=pull_request[\"data\"][\"commits\"], file_changes=pull_request[\"data\"][\"changed_files\"]))\n",
    "    \n",
    "    # Pull request creator details\n",
    "    print(\"Username: \", pull_request[\"data\"][\"user\"][\"login\"])\n",
    "    print(\"\\tUser Association type with repository: {association}\\n\\tCreated at: {created}\\n\\tComment: {comment}\\n\".format(association=pull_request[\"data\"][\"author_association\"], comment=pull_request[\"data\"][\"body\"], created=pull_request[\"data\"][\"created_at\"]))\n",
    "    \n",
    "    print(\"-\"*100)"
   ]
  },
  {
   "cell_type": "markdown",
   "metadata": {},
   "source": [
    "- This concludes Microtask #2: executing Perceval via it's Python interface using GitHub Backend"
   ]
  },
  {
   "cell_type": "code",
   "execution_count": null,
   "metadata": {},
   "outputs": [],
   "source": []
  }
 ],
 "metadata": {
  "kernelspec": {
   "display_name": "Python 3",
   "language": "python",
   "name": "python3"
  },
  "language_info": {
   "codemirror_mode": {
    "name": "ipython",
    "version": 3
   },
   "file_extension": ".py",
   "mimetype": "text/x-python",
   "name": "python",
   "nbconvert_exporter": "python",
   "pygments_lexer": "ipython3",
   "version": "3.6.5"
  }
 },
 "nbformat": 4,
 "nbformat_minor": 2
}
