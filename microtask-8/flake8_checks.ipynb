{
 "cells": [
  {
   "cell_type": "markdown",
   "metadata": {},
   "source": [
    "## Microtask #8:\n",
    "\n",
    "\n",
    "> Create a Python script to execute flake8 for a given commit of any Git repository. Given a commit SHA and a Git repository, the script should clone the repository (if it doesn't exist locally)\n",
    "\n",
    "**We'll start off by importing required modules**"
   ]
  },
  {
   "cell_type": "code",
   "execution_count": 1,
   "metadata": {},
   "outputs": [],
   "source": [
    "import os\n",
    "import subprocess"
   ]
  },
  {
   "cell_type": "markdown",
   "metadata": {},
   "source": [
    "**Now, we input the repository url which is to be cloned**"
   ]
  },
  {
   "cell_type": "code",
   "execution_count": 2,
   "metadata": {},
   "outputs": [
    {
     "name": "stdout",
     "output_type": "stream",
     "text": [
      "Enter repository url: https://github.com/chaoss/grimoirelab-perceval\n"
     ]
    }
   ],
   "source": [
    "current_directory = os.getcwd()\n",
    "REPO_URL = input(\"Enter repository url: \")\n",
    "REPOSITORY_NAME = os.path.join(current_directory, REPO_URL.split(\"/\")[-1])"
   ]
  },
  {
   "cell_type": "markdown",
   "metadata": {},
   "source": [
    "**We'll need the commit SHA in order to later checkout and perform flake8 checks**"
   ]
  },
  {
   "cell_type": "code",
   "execution_count": 3,
   "metadata": {},
   "outputs": [
    {
     "name": "stdout",
     "output_type": "stream",
     "text": [
      "076953e95735401b4d9266562f9ae406a30751a0\n"
     ]
    }
   ],
   "source": [
    "# commit SHA for checkout\n",
    "commit_sha = input()"
   ]
  },
  {
   "cell_type": "markdown",
   "metadata": {},
   "source": [
    "**We'll now check if the repository clone is available or not. If not, we'll clone it by passing `git clone` command to subprocess**"
   ]
  },
  {
   "cell_type": "code",
   "execution_count": 4,
   "metadata": {},
   "outputs": [
    {
     "name": "stdout",
     "output_type": "stream",
     "text": [
      "Repository Cloned!\n"
     ]
    }
   ],
   "source": [
    "if not os.path.isdir(REPOSITORY_NAME):\n",
    "    msg = subprocess.check_output(['git', 'clone', REPO_URL]).decode(\"utf-8\")\n",
    "    print(\"Repository Cloned!\")\n",
    "else:\n",
    "    print(\"Repository Already Cloned !\")"
   ]
  },
  {
   "cell_type": "code",
   "execution_count": 5,
   "metadata": {},
   "outputs": [],
   "source": [
    "# switch directory to the cloned repository\n",
    "os.chdir(REPOSITORY_NAME)"
   ]
  },
  {
   "cell_type": "markdown",
   "metadata": {},
   "source": [
    "**We'll now checkout the repository to the commit SHA provided above.**"
   ]
  },
  {
   "cell_type": "code",
   "execution_count": 6,
   "metadata": {},
   "outputs": [
    {
     "name": "stdout",
     "output_type": "stream",
     "text": [
      "Checked out to: 076953e95735401b4d9266562f9ae406a30751a0\n"
     ]
    }
   ],
   "source": [
    "try:\n",
    "    msg = subprocess.check_output([\"git\", \"checkout\", commit_sha]).decode(\"utf-8\")\n",
    "    print(\"Checked out to: \"+ commit_sha)\n",
    "except subprocess.CalledProcessError as e:\n",
    "    error = e.output.decode(\"utf-8\")\n",
    "    print(error)"
   ]
  },
  {
   "cell_type": "markdown",
   "metadata": {},
   "source": [
    "**Now we'll run flake8 on the checked out worktree of the repository**"
   ]
  },
  {
   "cell_type": "code",
   "execution_count": 7,
   "metadata": {},
   "outputs": [
    {
     "name": "stdout",
     "output_type": "stream",
     "text": [
      "> OK\n"
     ]
    }
   ],
   "source": [
    "try:\n",
    "    msg = subprocess.check_output([\"flake8\", \".\"]).decode(\"utf-8\")\n",
    "except subprocess.CalledProcessError as e:\n",
    "    msg = e.output.decode(\"utf-8\")\n",
    "\n",
    "if len(msg) > 0:\n",
    "    print(msg)\n",
    "else:\n",
    "    print(\"> OK\")"
   ]
  },
  {
   "cell_type": "code",
   "execution_count": 8,
   "metadata": {},
   "outputs": [],
   "source": [
    "# Ending the process by reverting back to master.\n",
    "msg = subprocess.check_output([\"git\", \"checkout\", \"master\"]).decode(\"utf-8\")"
   ]
  },
  {
   "cell_type": "markdown",
   "metadata": {},
   "source": [
    "<div align=\"center\">\n",
    "    <b> This concludes Microtask #8 ;) </b>\n",
    "</div>"
   ]
  },
  {
   "cell_type": "code",
   "execution_count": null,
   "metadata": {},
   "outputs": [],
   "source": []
  }
 ],
 "metadata": {
  "kernelspec": {
   "display_name": "Python 3",
   "language": "python",
   "name": "python3"
  },
  "language_info": {
   "codemirror_mode": {
    "name": "ipython",
    "version": 3
   },
   "file_extension": ".py",
   "mimetype": "text/x-python",
   "name": "python",
   "nbconvert_exporter": "python",
   "pygments_lexer": "ipython3",
   "version": "3.6.5"
  }
 },
 "nbformat": 4,
 "nbformat_minor": 2
}
