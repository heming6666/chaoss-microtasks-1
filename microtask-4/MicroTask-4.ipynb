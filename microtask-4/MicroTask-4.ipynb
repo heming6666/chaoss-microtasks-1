{
 "cells": [
  {
   "cell_type": "markdown",
   "metadata": {},
   "source": [
    "## Microtask #4 : Software Heritage data\n",
    "> To create a Python script to fetch data from [SoftwareHeritage](https://archive.softwareheritage.org/) using its [API](https://archive.softwareheritage.org/api/).\n",
    "Given a target GitHub repository, the script should return a message if the repository is not available on SoftwareHeritage or the date of the last visit.\n",
    "The script should rely on the endpoints: [origin](https://archive.softwareheritage.org/api/1/origin/) and [visits](https://archive.softwareheritage.org/api/1/origin/visits/).\n",
    "\n",
    "\n",
    "#### What is [SoftwareHeritage](https://archive.softwareheritage.org/)?\n",
    "- Software Heritage initiative is to collect all publicly available software in source code form together with its development history, replicate it massively to ensure its preservation, and share it with everyone who needs it.\n",
    "\n",
    "\n",
    "**We'll start off by importing required modules**"
   ]
  },
  {
   "cell_type": "code",
   "execution_count": 1,
   "metadata": {},
   "outputs": [],
   "source": [
    "import requests\n",
    "from pprint import pprint"
   ]
  },
  {
   "cell_type": "markdown",
   "metadata": {},
   "source": [
    "**Software heritage's Base of api endpoint**"
   ]
  },
  {
   "cell_type": "code",
   "execution_count": 2,
   "metadata": {},
   "outputs": [],
   "source": [
    "# base requet url\n",
    "base_url = \"https://archive.softwareheritage.org/api\""
   ]
  },
  {
   "cell_type": "markdown",
   "metadata": {},
   "source": [
    "**We'll require**\n",
    "- `origin_endpoint` : In order to get `origin_id` of a given GitHub repository\n",
    "- `visits_endpoint` : In order to get `visits` information of the corresponding origin_id ( of the given GitHub repository )"
   ]
  },
  {
   "cell_type": "code",
   "execution_count": 3,
   "metadata": {},
   "outputs": [],
   "source": [
    "# setting urls for origin and visits endpoints\n",
    "origin_endpoint = \"/1/origin/git/url/{origin_url}\"\n",
    "visits_endpoint = \"/1/origin/{origin_id}/visits/\""
   ]
  },
  {
   "cell_type": "markdown",
   "metadata": {},
   "source": [
    "**Input: GitHub repository URL**"
   ]
  },
  {
   "cell_type": "code",
   "execution_count": 4,
   "metadata": {},
   "outputs": [
    {
     "name": "stdout",
     "output_type": "stream",
     "text": [
      "https://github.com/sindresorhus/refined-github\n"
     ]
    }
   ],
   "source": [
    "# getting repository url from user\n",
    "REPOSITORY_URL = input()"
   ]
  },
  {
   "cell_type": "markdown",
   "metadata": {},
   "source": [
    "**We'll now make a `GET` request to the origin_endpoint in order to get `origin_id` of the REPOSITORY_URL**"
   ]
  },
  {
   "cell_type": "code",
   "execution_count": 5,
   "metadata": {
    "scrolled": true
   },
   "outputs": [
    {
     "name": "stdout",
     "output_type": "stream",
     "text": [
      "Status code:  200\n"
     ]
    }
   ],
   "source": [
    "origin_endpoint_url = base_url + origin_endpoint.format(origin_url=REPOSITORY_URL)\n",
    "request = requests.get(origin_endpoint_url)\n",
    "print(\"Status code: \", request.status_code)"
   ]
  },
  {
   "cell_type": "markdown",
   "metadata": {},
   "source": [
    "**Defining function for separate actions**"
   ]
  },
  {
   "cell_type": "code",
   "execution_count": 6,
   "metadata": {},
   "outputs": [],
   "source": [
    "def get_visits(visit_request_object):\n",
    "    '''\n",
    "    param visit_request_object: request object after making a GET request to visit_endpoint and status 200\n",
    "    '''\n",
    "\n",
    "    # getting the visit history \n",
    "    visits = visit_request_object.json()\n",
    "    print(\"return JSON DATA FROM ORIGIN ENDPOINT\")\n",
    "    pprint(visits)\n",
    "    print()\n",
    "\n",
    "    # picking the lates one\n",
    "    last_visit = visits[0]\n",
    "    print(\"LAST VISITS DATA: \")\n",
    "    pprint(last_visit)\n",
    "    \n",
    "    print(\"\\nLAST VISITS DATE: \", last_visit[\"date\"])\n",
    "\n",
    "\n",
    "def found_in_software_heritage(request_object):\n",
    "    '''\n",
    "    param request_object: request object after making a GET request to origin_endpoint and status 200\n",
    "    '''\n",
    "    \n",
    "    print(\"Found origin in Software Heritage archive.\")\n",
    "    print()\n",
    "    \n",
    "    # get the json return \n",
    "    json_data = request_object.json()\n",
    "    print(\"return JSON DATA FROM ORIGIN ENDPOINT\")\n",
    "    pprint(json_data)\n",
    "    \n",
    "    # get corresponding origin_id of the repository \n",
    "    origin_id = json_data[\"id\"]\n",
    "    print(\"ORIGIN ID of {repo}: {originid}\".format(repo=REPOSITORY_URL, originid=origin_id))\n",
    "  \n",
    "    \n",
    "    # making a GET requets to the visits endpoint using the origin_id of the found archive\n",
    "    visits_endpoint_url = base_url + visits_endpoint.format(origin_id=origin_id)\n",
    "    visit_request = requests.get(visits_endpoint_url)\n",
    "\n",
    "    if visit_request.status_code == 200:\n",
    "        get_visits(visit_request)\n",
    "    else:\n",
    "        print(\"No visits found. \")"
   ]
  },
  {
   "cell_type": "code",
   "execution_count": 7,
   "metadata": {},
   "outputs": [
    {
     "name": "stdout",
     "output_type": "stream",
     "text": [
      "Found origin in Software Heritage archive.\n",
      "\n",
      "return JSON DATA FROM ORIGIN ENDPOINT\n",
      "{'id': 15333418,\n",
      " 'origin_visits_url': '/api/1/origin/15333418/visits/',\n",
      " 'type': 'git',\n",
      " 'url': 'https://github.com/sindresorhus/refined-github'}\n",
      "ORIGIN ID of https://github.com/sindresorhus/refined-github: 15333418\n",
      "return JSON DATA FROM ORIGIN ENDPOINT\n",
      "[{'date': '2018-12-24T08:41:47.595349+00:00',\n",
      "  'origin': 15333418,\n",
      "  'origin_visit_url': '/api/1/origin/15333418/visit/19/',\n",
      "  'snapshot': None,\n",
      "  'snapshot_url': None,\n",
      "  'status': 'partial',\n",
      "  'visit': 19},\n",
      " {'date': '2018-10-14T02:00:49.180673+00:00',\n",
      "  'origin': 15333418,\n",
      "  'origin_visit_url': '/api/1/origin/15333418/visit/18/',\n",
      "  'snapshot': '597ae05ffb27b4e648cf795e88172d029f5d282b',\n",
      "  'snapshot_url': '/api/1/snapshot/597ae05ffb27b4e648cf795e88172d029f5d282b/',\n",
      "  'status': 'full',\n",
      "  'visit': 18},\n",
      " {'date': '2018-10-11T13:26:17.418788+00:00',\n",
      "  'origin': 15333418,\n",
      "  'origin_visit_url': '/api/1/origin/15333418/visit/17/',\n",
      "  'snapshot': '5f40075675890bcc70ca2e36c0e55302826d3370',\n",
      "  'snapshot_url': '/api/1/snapshot/5f40075675890bcc70ca2e36c0e55302826d3370/',\n",
      "  'status': 'full',\n",
      "  'visit': 17},\n",
      " {'date': '2018-10-11T04:35:09.454466+00:00',\n",
      "  'origin': 15333418,\n",
      "  'origin_visit_url': '/api/1/origin/15333418/visit/16/',\n",
      "  'snapshot': '3185f03876a00f130d0aa943b9d3bcc7570586fb',\n",
      "  'snapshot_url': '/api/1/snapshot/3185f03876a00f130d0aa943b9d3bcc7570586fb/',\n",
      "  'status': 'full',\n",
      "  'visit': 16},\n",
      " {'date': '2018-09-10T01:17:28.605056+00:00',\n",
      "  'origin': 15333418,\n",
      "  'origin_visit_url': '/api/1/origin/15333418/visit/15/',\n",
      "  'snapshot': 'b423a5583b97269e4ccbebb93981af97cc1aa19c',\n",
      "  'snapshot_url': '/api/1/snapshot/b423a5583b97269e4ccbebb93981af97cc1aa19c/',\n",
      "  'status': 'full',\n",
      "  'visit': 15},\n",
      " {'date': '2018-09-07T07:53:16.694073+00:00',\n",
      "  'origin': 15333418,\n",
      "  'origin_visit_url': '/api/1/origin/15333418/visit/14/',\n",
      "  'snapshot': None,\n",
      "  'snapshot_url': None,\n",
      "  'status': 'partial',\n",
      "  'visit': 14},\n",
      " {'date': '2018-09-01T22:06:32.779531+00:00',\n",
      "  'origin': 15333418,\n",
      "  'origin_visit_url': '/api/1/origin/15333418/visit/13/',\n",
      "  'snapshot': '7bb19e1ec9a556ad9bda91d127a547eda5ae68e1',\n",
      "  'snapshot_url': '/api/1/snapshot/7bb19e1ec9a556ad9bda91d127a547eda5ae68e1/',\n",
      "  'status': 'full',\n",
      "  'visit': 13},\n",
      " {'date': '2018-08-30T10:50:21.917759+00:00',\n",
      "  'origin': 15333418,\n",
      "  'origin_visit_url': '/api/1/origin/15333418/visit/12/',\n",
      "  'snapshot': None,\n",
      "  'snapshot_url': None,\n",
      "  'status': 'partial',\n",
      "  'visit': 12},\n",
      " {'date': '2018-07-24T04:49:57.806885+00:00',\n",
      "  'origin': 15333418,\n",
      "  'origin_visit_url': '/api/1/origin/15333418/visit/11/',\n",
      "  'snapshot': 'ac282368f9e26158d784414c3206259a852c258e',\n",
      "  'snapshot_url': '/api/1/snapshot/ac282368f9e26158d784414c3206259a852c258e/',\n",
      "  'status': 'full',\n",
      "  'visit': 11},\n",
      " {'date': '2018-03-02T07:40:31.001866+00:00',\n",
      "  'origin': 15333418,\n",
      "  'origin_visit_url': '/api/1/origin/15333418/visit/10/',\n",
      "  'snapshot': '11b8a84cb5efb6e3b09d9ea89dac10e0661dada3',\n",
      "  'snapshot_url': '/api/1/snapshot/11b8a84cb5efb6e3b09d9ea89dac10e0661dada3/',\n",
      "  'status': 'full',\n",
      "  'visit': 10}]\n",
      "\n",
      "LAST VISITS DATA: \n",
      "{'date': '2018-12-24T08:41:47.595349+00:00',\n",
      " 'origin': 15333418,\n",
      " 'origin_visit_url': '/api/1/origin/15333418/visit/19/',\n",
      " 'snapshot': None,\n",
      " 'snapshot_url': None,\n",
      " 'status': 'partial',\n",
      " 'visit': 19}\n",
      "\n",
      "LAST VISITS DATE:  2018-12-24T08:41:47.595349+00:00\n"
     ]
    }
   ],
   "source": [
    "if request.status_code == 200:\n",
    "    # Found the origin in archive\n",
    "    found_in_software_heritage(request)\n",
    "else:\n",
    "    # Cannot find origin in archive\n",
    "    print(\"Requested origin cannot be found in Software Heritage archive. \")"
   ]
  },
  {
   "cell_type": "markdown",
   "metadata": {},
   "source": [
    "- This concludes Microtask #4 ;)"
   ]
  },
  {
   "cell_type": "code",
   "execution_count": null,
   "metadata": {},
   "outputs": [],
   "source": []
  }
 ],
 "metadata": {
  "kernelspec": {
   "display_name": "Python 3",
   "language": "python",
   "name": "python3"
  },
  "language_info": {
   "codemirror_mode": {
    "name": "ipython",
    "version": 3
   },
   "file_extension": ".py",
   "mimetype": "text/x-python",
   "name": "python",
   "nbconvert_exporter": "python",
   "pygments_lexer": "ipython3",
   "version": "3.6.5"
  }
 },
 "nbformat": 4,
 "nbformat_minor": 2
}
