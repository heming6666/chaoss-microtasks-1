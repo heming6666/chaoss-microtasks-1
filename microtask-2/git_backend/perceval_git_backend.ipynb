{
 "cells": [
  {
   "cell_type": "markdown",
   "metadata": {},
   "source": [
    "## Microtask #2 : Git Backend\n",
    ">To create a Python script to execute [Perceval](https://github.com/chaoss/grimoirelab-perceval) via its Python interface using the *Git* backend.\n",
    "\n",
    "#### What is [Perceval](https://github.com/chaoss/grimoirelab-perceval) ?\n",
    "- Perceval is a Python module for retrieving data from repositories related to software development. It works with many data sources, from Git repositories and GitHub projects to mailing lists, Gerrit or StackOverflow.\n",
    "\n",
    "> In this notebook, we'll be using `git` backend module to retrieve information from a selected repository. \n",
    "> Documentation for Git backend can be found [here](https://perceval.readthedocs.io/en/latest/perceval.backends.core.html#module-perceval.backends.core.git)\n",
    "\n",
    "**We'll start off by importing required modules**"
   ]
  },
  {
   "cell_type": "code",
   "execution_count": 1,
   "metadata": {},
   "outputs": [],
   "source": [
    "from perceval.backends.core.git import Git\n",
    "from datetime import datetime\n",
    "from pprint import pprint"
   ]
  },
  {
   "cell_type": "markdown",
   "metadata": {},
   "source": [
    "* The `Git` Backend class required two mandatory arguments\n",
    "    - `uri`: Url of the Git Repository in order to clone it.\n",
    "    - `gitpath`: Path where the repository will be cloned."
   ]
  },
  {
   "cell_type": "code",
   "execution_count": 2,
   "metadata": {},
   "outputs": [],
   "source": [
    "REPOSITORY_URL = \"https://github.com/inishchith/MeetInTheMiddle.git\"\n",
    "REPO_DIR = \"./tmp/MeetInTheMiddle\""
   ]
  },
  {
   "cell_type": "code",
   "execution_count": 3,
   "metadata": {},
   "outputs": [],
   "source": [
    "# Initializing the Git backend\n",
    "git_backend = Git(uri=REPOSITORY_URL,gitpath=REPO_DIR)"
   ]
  },
  {
   "cell_type": "markdown",
   "metadata": {},
   "source": [
    "**We'll now try to [`fetch()`](https://github.com/chaoss/grimoirelab-perceval/blob/805d73122b871c29146a70601d8f3d78267b41e1/perceval/backends/core/git.py#L78) commits from the git repository**\n",
    "   - The `fetch()` method returns a generator, we'll convert it to a list for our convenience\n",
    "\n",
    "After the execution of above line, we'll have the `uri` repository clone ( `bare repository` ) in the specified `gitpath` which contains information such as checkout HEAD of each branch, required configuration and many more."
   ]
  },
  {
   "cell_type": "code",
   "execution_count": 4,
   "metadata": {},
   "outputs": [
    {
     "name": "stdout",
     "output_type": "stream",
     "text": [
      "NUMBER OF COMMITS:  31\n"
     ]
    }
   ],
   "source": [
    "# Range of dates in which commits are to be fetched\n",
    "from_date = datetime(2018, 10, 1)\n",
    "to_date = datetime(2019, 2, 5)\n",
    "\n",
    "# Repo Branches from which commits to be fetched [ 2/3 ]\n",
    "repo_branches = [\"master\", \"develop\"]\n",
    "\n",
    "\n",
    "# Calling fetch method\n",
    "# The method retrieves from a Git repository or a log file a list of commits. Commits are returned in the same order they were obtained.\n",
    "range_commits = git_backend.fetch(branches=repo_branches, from_date=from_date, to_date=to_date)\n",
    "range_commits_list = list(range_commits)\n",
    "n_commits = len(range_commits_list)\n",
    "print(\"NUMBER OF COMMITS: \", n_commits)"
   ]
  },
  {
   "cell_type": "markdown",
   "metadata": {},
   "source": [
    "**Let's check the structure of one of the commits. ( picking last one in this case )**"
   ]
  },
  {
   "cell_type": "code",
   "execution_count": 5,
   "metadata": {},
   "outputs": [
    {
     "name": "stdout",
     "output_type": "stream",
     "text": [
      "{'backend_name': 'Git',\n",
      " 'backend_version': '0.11.0',\n",
      " 'category': 'commit',\n",
      " 'data': {'Author': 'inishchith <inishchith@gmail.com>',\n",
      "          'AuthorDate': 'Sun Feb 3 23:28:02 2019 +0530',\n",
      "          'Commit': 'inishchith <inishchith@gmail.com>',\n",
      "          'CommitDate': 'Mon Feb 4 21:47:13 2019 +0530',\n",
      "          'commit': '3a52f5adba6884bd361daaa5f3ea3276a60b3879',\n",
      "          'files': [{'action': 'M',\n",
      "                     'added': '7',\n",
      "                     'file': 'MeetMe.html',\n",
      "                     'indexes': ['4dadcf1', '2425c04'],\n",
      "                     'modes': ['100644', '100644'],\n",
      "                     'removed': '15'},\n",
      "                    {'action': 'M',\n",
      "                     'added': '4',\n",
      "                     'file': 'README.md',\n",
      "                     'indexes': ['55ef77e', '1cb4ac9'],\n",
      "                     'modes': ['100644', '100644'],\n",
      "                     'removed': '0'},\n",
      "                    {'action': 'M',\n",
      "                     'added': '160',\n",
      "                     'file': 'assets/style.css',\n",
      "                     'indexes': ['ba1aa7d', '09d74cb'],\n",
      "                     'modes': ['100644', '100644'],\n",
      "                     'removed': '157'},\n",
      "                    {'action': 'M',\n",
      "                     'added': '12',\n",
      "                     'file': 'index.html',\n",
      "                     'indexes': ['52ec1b8', '46909f5'],\n",
      "                     'modes': ['100644', '100644'],\n",
      "                     'removed': '30'}],\n",
      "          'message': 'Bring to front bar + lint',\n",
      "          'parents': ['29986d6fca862cd0cbc3dd89e4f84b2f38c4e6d3'],\n",
      "          'refs': []},\n",
      " 'origin': 'https://github.com/inishchith/MeetInTheMiddle.git',\n",
      " 'perceval_version': '0.12.6',\n",
      " 'tag': 'https://github.com/inishchith/MeetInTheMiddle.git',\n",
      " 'timestamp': 1552402690.195804,\n",
      " 'updated_on': 1549297033.0,\n",
      " 'uuid': 'a010a8a8b7219f531d3621f73a458700dffd89f3'}\n"
     ]
    }
   ],
   "source": [
    "last_commit = range_commits_list[n_commits - 1]\n",
    "pprint(last_commit)"
   ]
  },
  {
   "cell_type": "markdown",
   "metadata": {},
   "source": [
    "<hr>\n",
    "\n",
    "**`timestamp`** - Field is a Unix Timestamp conversion of the time when the `.fetch()` method is executed in UTC (Universal Time Coordinated) time scale.\n",
    "\n",
    "**`updated_on`** - Field is a Unix Timestamp conversion of last update datetime in UTC (Universal Time Coordinated) time scale of the Git Item set via retrieving the `update time` of the corresponding Git Repository. ( More like last modified time )\n",
    "\n",
    "* Tip: We can a tool called [unixtimestamp](https://www.unixtimestamp.com/index.php) to check the cross conversion.\n",
    "\n",
    "**Note: Other attributes of the above JSON document are explained in [Microtask #3](https://github.com/inishchith/chaoss-microtasks/tree/master/microtask-3)**\n",
    "\n",
    "**Let us now print out some useful information from all the fetched commits such as CommitDate, Author, Commit Message**"
   ]
  },
  {
   "cell_type": "code",
   "execution_count": 6,
   "metadata": {},
   "outputs": [
    {
     "name": "stdout",
     "output_type": "stream",
     "text": [
      "COMMIT DATE: Wed Dec 12 01:07:27 2018 +0530\n",
      "AUTHOR: inishchith <inishchith@gmail.com>\n",
      "COMMIT MESSAGE: init :rocket:\n",
      "\n",
      "COMMIT DATE: Wed Dec 12 00:49:29 2018 +0530\n",
      "AUTHOR: Nishchith K <inishchith@gmail.com>\n",
      "COMMIT MESSAGE: Initial commit\n",
      "\n",
      "COMMIT DATE: Wed Dec 12 01:07:57 2018 +0530\n",
      "AUTHOR: inishchith <inishchith@gmail.com>\n",
      "COMMIT MESSAGE: Merge branch 'master' of https://github.com/inishchith/MeetInTheMiddle\n",
      "\n",
      "COMMIT DATE: Wed Dec 12 01:25:01 2018 +0530\n",
      "AUTHOR: inishchith <inishchith@gmail.com>\n",
      "COMMIT MESSAGE:  CleanUp + Add octocat\n",
      "\n",
      "COMMIT DATE: Wed Dec 12 15:00:07 2018 +0530\n",
      "AUTHOR: inishchith <inishchith@gmail.com>\n",
      "COMMIT MESSAGE:  Viewing Changes\n",
      "\n",
      "COMMIT DATE: Wed Dec 12 16:11:27 2018 +0530\n",
      "AUTHOR: inishchith <inishchith@gmail.com>\n",
      "COMMIT MESSAGE: Add README.md\n",
      "\n",
      "COMMIT DATE: Wed Dec 12 20:35:35 2018 +0530\n",
      "AUTHOR: inishchith <inishchith@gmail.com>\n",
      "COMMIT MESSAGE:  add MoboView + fix Recentering single point\n",
      "\n",
      "COMMIT DATE: Wed Dec 12 23:44:44 2018 +0530\n",
      "AUTHOR: inishchith <inishchith@gmail.com>\n",
      "COMMIT MESSAGE: Add TODO.md + ZoomOut init() mapView\n",
      "\n",
      "COMMIT DATE: Thu Dec 13 20:56:33 2018 +0530\n",
      "AUTHOR: inishchith <inishchith@gmail.com>\n",
      "COMMIT MESSAGE:  alert -> logs + fix style\n",
      "\n",
      "COMMIT DATE: Fri Dec 14 01:55:24 2018 +0530\n",
      "AUTHOR: inishchith <inishchith@gmail.com>\n",
      "COMMIT MESSAGE:  test custom midway\n",
      "\n",
      "COMMIT DATE: Fri Dec 14 02:01:32 2018 +0530\n",
      "AUTHOR: inishchith <inishchith@gmail.com>\n",
      "COMMIT MESSAGE:  CleanUp debug comments\n",
      "\n",
      "COMMIT DATE: Fri Dec 14 20:48:43 2018 +0530\n",
      "AUTHOR: inishchith <inishchith@gmail.com>\n",
      "COMMIT MESSAGE:  Add auto navigator\n",
      "\n",
      "COMMIT DATE: Fri Dec 14 11:20:09 2018 +0000\n",
      "AUTHOR: Mehmet Seçkin <mehmet@seckin.me>\n",
      "COMMIT MESSAGE: Improve grammar for the information message\n",
      "\n",
      "COMMIT DATE: Fri Dec 14 16:58:37 2018 +0530\n",
      "AUTHOR: Nishchith K <inishchith@gmail.com>\n",
      "COMMIT MESSAGE: Merge pull request #2 from mehmetseckin/patch-1\n",
      "\n",
      "Improve grammar for the information message\n",
      "\n",
      "COMMIT DATE: Fri Dec 14 22:35:34 2018 +0530\n",
      "AUTHOR: inishchith <inishchith@gmail.com>\n",
      "COMMIT MESSAGE:  fix error logging\n",
      "\n",
      "COMMIT DATE: Sun Dec 16 11:10:18 2018 +0530\n",
      "AUTHOR: inishchith <inishchith@gmail.com>\n",
      "COMMIT MESSAGE:  Add names on position marker + PH idea.\n",
      "\n",
      "COMMIT DATE: Tue Dec 18 13:07:51 2018 +0530\n",
      "AUTHOR: inishchith <inishchith@gmail.com>\n",
      "COMMIT MESSAGE:  Add twitter handle\n",
      "\n",
      "COMMIT DATE: Wed Dec 19 23:45:39 2018 +0530\n",
      "AUTHOR: inishchith <inishchith@gmail.com>\n",
      "COMMIT MESSAGE:  remove redundancy: data exchange\n",
      "\n",
      "COMMIT DATE: Sat Jan 12 09:54:49 2019 +0530\n",
      "AUTHOR: inishchith <inishchith@gmail.com>\n",
      "COMMIT MESSAGE:  Fix remove individual bug + font\n",
      "\n",
      "COMMIT DATE: Wed Jan 16 20:39:28 2019 +0530\n",
      "AUTHOR: inishchith <inishchith@gmail.com>\n",
      "COMMIT MESSAGE: closes #3\n",
      "\n",
      "COMMIT DATE: Fri Jan 18 21:41:25 2019 +0530\n",
      "AUTHOR: inishchith <inishchith@gmail.com>\n",
      "COMMIT MESSAGE: fix #7\n",
      "\n",
      "COMMIT DATE: Mon Jan 28 20:51:30 2019 +0530\n",
      "AUTHOR: inishchith <inishchith@gmail.com>\n",
      "COMMIT MESSAGE: init PWA + revert\n",
      "\n",
      "COMMIT DATE: Sun Feb 3 15:43:58 2019 +0100\n",
      "AUTHOR: Zviad <zviadsichinava@gmail.com>\n",
      "COMMIT MESSAGE: feat: redesign home page\n",
      "\n",
      "COMMIT DATE: Sun Feb 3 16:13:50 2019 +0100\n",
      "AUTHOR: Zviad <zviadsichinava@gmail.com>\n",
      "COMMIT MESSAGE: feat: pick random photo for background\n",
      "\n",
      "COMMIT DATE: Sun Feb 3 17:25:37 2019 +0100\n",
      "AUTHOR: Zviad <zviadsichinava@gmail.com>\n",
      "COMMIT MESSAGE: feat: redesign meetme page\n",
      "\n",
      "COMMIT DATE: Sun Feb 3 17:27:42 2019 +0100\n",
      "AUTHOR: Zviad <zviadsichinava@gmail.com>\n",
      "COMMIT MESSAGE: feat: remove unnececary alert\n",
      "\n",
      "COMMIT DATE: Sun Feb 3 20:54:33 2019 +0100\n",
      "AUTHOR: Zviad <zviadsichinava@gmail.com>\n",
      "COMMIT MESSAGE: fix: styles on mobile viewport\n",
      "\n",
      "COMMIT DATE: Sun Feb 3 23:28:02 2019 +0530\n",
      "AUTHOR: inishchith <inishchith@gmail.com>\n",
      "COMMIT MESSAGE: Bring to front bar + lint\n",
      "\n",
      "COMMIT DATE: Sun Feb 3 20:57:31 2019 +0100\n",
      "AUTHOR: Zviad <zviadsichinava@gmail.com>\n",
      "COMMIT MESSAGE: fix: merge conflicts\n",
      "\n",
      "COMMIT DATE: Mon Feb 4 07:40:32 2019 +0530\n",
      "AUTHOR: Nishchith K <inishchith@gmail.com>\n",
      "COMMIT MESSAGE: Merge pull request #11 from zikosichi/feat/redesigning\n",
      "\n",
      "Feat/redesigning - Fix style issues for mobile viewport\n",
      "\n",
      "COMMIT DATE: Mon Feb 4 21:47:13 2019 +0530\n",
      "AUTHOR: inishchith <inishchith@gmail.com>\n",
      "COMMIT MESSAGE: Bring to front bar + lint\n",
      "\n"
     ]
    }
   ],
   "source": [
    "for commit in range_commits_list:\n",
    "    print(\"COMMIT DATE: {commit_date}\\nAUTHOR: {author_name}\\nCOMMIT MESSAGE: {commit_message}\".format(commit_date=commit[\"data\"][\"CommitDate\"], author_name=commit[\"data\"][\"Author\"], commit_message=commit[\"data\"][\"message\"]))\n",
    "    print()"
   ]
  },
  {
   "cell_type": "markdown",
   "metadata": {},
   "source": [
    "**Let us now print out Additions and Deletions over files from last 5 commits**"
   ]
  },
  {
   "cell_type": "code",
   "execution_count": 8,
   "metadata": {},
   "outputs": [
    {
     "name": "stdout",
     "output_type": "stream",
     "text": [
      "* COMMIT MESSAGE: fix: styles on mobile viewport\n",
      "\n",
      "\tFILE NAME: index.html\n",
      "\tADDITIONS: +6\n",
      "\tDELETIONS: -6\n",
      "\n",
      "* COMMIT MESSAGE: Bring to front bar + lint\n",
      "\n",
      "\tFILE NAME: MeetMe.html\n",
      "\tADDITIONS: +7\n",
      "\tDELETIONS: -15\n",
      "\n",
      "\tFILE NAME: assets/style.css\n",
      "\tADDITIONS: +160\n",
      "\tDELETIONS: -157\n",
      "\n",
      "\tFILE NAME: index.html\n",
      "\tADDITIONS: +12\n",
      "\tDELETIONS: -30\n",
      "\n",
      "* COMMIT MESSAGE: fix: merge conflicts\n",
      "\n",
      "\tFILE NAME: MeetMe.html\n",
      "\tADDITIONS: +7\n",
      "\tDELETIONS: -15\n",
      "\n",
      "\tFILE NAME: assets/style.css\n",
      "\tADDITIONS: +160\n",
      "\tDELETIONS: -157\n",
      "\n",
      "\tFILE NAME: index.html\n",
      "\tADDITIONS: +10\n",
      "\tDELETIONS: -26\n",
      "\n",
      "* COMMIT MESSAGE: Merge pull request #11 from zikosichi/feat/redesigning\n",
      "\n",
      "Feat/redesigning - Fix style issues for mobile viewport\n",
      "\n",
      "\tFILE NAME: index.html\n",
      "\tADDITIONS: +10\n",
      "\tDELETIONS: -8\n",
      "\n",
      "* COMMIT MESSAGE: Bring to front bar + lint\n",
      "\n",
      "\tFILE NAME: MeetMe.html\n",
      "\tADDITIONS: +7\n",
      "\tDELETIONS: -15\n",
      "\n",
      "\tFILE NAME: README.md\n",
      "\tADDITIONS: +4\n",
      "\tDELETIONS: -0\n",
      "\n",
      "\tFILE NAME: assets/style.css\n",
      "\tADDITIONS: +160\n",
      "\tDELETIONS: -157\n",
      "\n",
      "\tFILE NAME: index.html\n",
      "\tADDITIONS: +12\n",
      "\tDELETIONS: -30\n",
      "\n"
     ]
    }
   ],
   "source": [
    "for commit in range_commits_list[-5:]:\n",
    "    print(\"* COMMIT MESSAGE: {commit_message}\\n\".format(commit_message=commit[\"data\"][\"message\"]))\n",
    "    for change_file in commit['data']['files']:\n",
    "        print(\"\\tFILE NAME: {file_name}\\n\\tADDITIONS: +{additions}\\n\\tDELETIONS: -{deletions}\\n\".format(file_name=change_file['file'], additions=change_file['added'], deletions=change_file['removed']))"
   ]
  },
  {
   "cell_type": "markdown",
   "metadata": {},
   "source": [
    "**There are other classes such GitCommand, GitParser & GitRepository which can be explored as we go further ;)**"
   ]
  },
  {
   "cell_type": "markdown",
   "metadata": {},
   "source": [
    "- This concludes Microtask #2: executing Perceval via it's Python interface using Git Backend"
   ]
  },
  {
   "cell_type": "code",
   "execution_count": null,
   "metadata": {},
   "outputs": [],
   "source": []
  }
 ],
 "metadata": {
  "kernelspec": {
   "display_name": "Python 3",
   "language": "python",
   "name": "python3"
  },
  "language_info": {
   "codemirror_mode": {
    "name": "ipython",
    "version": 3
   },
   "file_extension": ".py",
   "mimetype": "text/x-python",
   "name": "python",
   "nbconvert_exporter": "python",
   "pygments_lexer": "ipython3",
   "version": "3.6.5"
  }
 },
 "nbformat": 4,
 "nbformat_minor": 2
}
