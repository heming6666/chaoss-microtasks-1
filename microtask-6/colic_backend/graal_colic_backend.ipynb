{
 "cells": [
  {
   "cell_type": "markdown",
   "metadata": {},
   "source": [
    "## Microtask #6: CoLic Backend\n",
    "\n",
    "> To create a Python script to execute Graal via its Python interface using the CoLic Backend.\n",
    "\n",
    "**What is [Graal](https://github.com/chaoss/grimoirelab-graal)?**\n",
    "   - Graal [ Generic Repository AnALyzer ] with the help of Perceval's Git Backend fetches the commits from a Git repository and provides a mechanism to plug third party tools/libraries focused on source code analysis.\n",
    "   \n",
    "**What Graal's [CoLic](https://github.com/chaoss/grimoirelab-graal/blob/master/graal/backends/core/colic.py) backend does?**\n",
    "   - CoLic ( Code License ) Backend gathers license information from git repositories with the help of\n",
    "     - [NOMOS](https://github.com/fossology/fossology/tree/master/src/nomos) \n",
    "     - [SCANCODE](https://github.com/nexB/scancode-toolkit) \n",
    "\n",
    "**We'll start off by importing required modules**"
   ]
  },
  {
   "cell_type": "code",
   "execution_count": 1,
   "metadata": {},
   "outputs": [],
   "source": [
    "from graal.backends.core.colic import CoLic, CATEGORY_COLIC_NOMOS, CATEGORY_COLIC_SCANCODE\n",
    "from pprint import pprint\n",
    "import datetime"
   ]
  },
  {
   "cell_type": "code",
   "execution_count": 2,
   "metadata": {},
   "outputs": [],
   "source": [
    "# URL for the git repo to analyze\n",
    "REPOSITORY_URL = \"http://github.com/inishchith/MeetInTheMiddle\"\n",
    "\n",
    "# directory where to mirror the repo\n",
    "REPO_DIR = \"MeetInTheMiddle\"\n",
    "\n",
    "# Range of commits to fetched\n",
    "from_date = datetime.datetime(2018, 12, 10)\n",
    "to_date = datetime.datetime(2018, 12, 12)"
   ]
  },
  {
   "cell_type": "code",
   "execution_count": 3,
   "metadata": {},
   "outputs": [],
   "source": [
    "def fetch_license_info(executable_path, colic_category):\n",
    "    # CoLic object initialization\n",
    "    colic = CoLic(uri=REPOSITORY_URL, exec_path=executable_path, git_path=REPO_DIR)\n",
    "\n",
    "    # fetch all commits within range from_date <= date <= to_date\n",
    "    commits = list(colic.fetch(from_date=from_date, to_date=to_date, category=colic_category))\n",
    "\n",
    "    n_commits = len(commits)\n",
    "    print(\"Number of commits: \", n_commits)\n",
    "    print()\n",
    "\n",
    "    commit_with_license = commits[1]\n",
    "    \n",
    "    print(commit_with_license[\"data\"][\"Author\"])\n",
    "    print(commit_with_license[\"data\"][\"CommitDate\"])\n",
    "    print(commit_with_license[\"data\"][\"message\"])\n",
    "    pprint(commit_with_license[\"data\"][\"analysis\"])"
   ]
  },
  {
   "cell_type": "code",
   "execution_count": 4,
   "metadata": {},
   "outputs": [
    {
     "name": "stdout",
     "output_type": "stream",
     "text": [
      "Number of commits:  4\n",
      "\n",
      "Nishchith K <inishchith@gmail.com>\n",
      "Wed Dec 12 00:49:29 2018 +0530\n",
      "Initial commit\n",
      "[{'file_path': 'LICENSE', 'licenses': ['Apache-2.0']},\n",
      " {'file_path': 'README.md', 'licenses': ['No_license_found']}]\n"
     ]
    }
   ],
   "source": [
    "# nomos executable path\n",
    "NOMOS_PATH = \"/Users/Nishchith/GitHub/CHAOSS/chaoss-mts-init/microtask-6/executables/fossology/src/nomos/agent/nomossa\"\n",
    "fetch_license_info(executable_path=NOMOS_PATH, colic_category=CATEGORY_COLIC_NOMOS)"
   ]
  },
  {
   "cell_type": "code",
   "execution_count": 5,
   "metadata": {},
   "outputs": [
    {
     "name": "stdout",
     "output_type": "stream",
     "text": [
      "Number of commits:  4\n",
      "\n",
      "Nishchith K <inishchith@gmail.com>\n",
      "Wed Dec 12 00:49:29 2018 +0530\n",
      "Initial commit\n",
      "[{'file_path': 'LICENSE',\n",
      "  'licenses': [{'category': 'Permissive',\n",
      "                'end_line': 201,\n",
      "                'homepage_url': 'http://www.apache.org/licenses/',\n",
      "                'is_exception': False,\n",
      "                'key': 'apache-2.0',\n",
      "                'matched_rule': {'identifier': 'apache-2.0.LICENSE',\n",
      "                                 'is_license_notice': False,\n",
      "                                 'is_license_reference': False,\n",
      "                                 'is_license_tag': False,\n",
      "                                 'is_license_text': True,\n",
      "                                 'license_expression': 'apache-2.0',\n",
      "                                 'licenses': ['apache-2.0']},\n",
      "                'name': 'Apache License 2.0',\n",
      "                'owner': 'Apache Software Foundation',\n",
      "                'reference_url': 'https://enterprise.dejacode.com/urn/urn:dje:license:apache-2.0',\n",
      "                'score': 100.0,\n",
      "                'short_name': 'Apache 2.0',\n",
      "                'spdx_license_key': 'Apache-2.0',\n",
      "                'spdx_url': 'https://spdx.org/licenses/Apache-2.0',\n",
      "                'start_line': 1,\n",
      "                'text_url': 'http://www.apache.org/licenses/LICENSE-2.0'}]},\n",
      " {'file_path': 'README.md', 'licenses': []}]\n"
     ]
    }
   ],
   "source": [
    "# scancode executable path\n",
    "SCANCODE_PATH = \"/Users/Nishchith/GitHub/CHAOSS/chaoss-mts-init/microtask-6/executables/scancode-toolkit-3.0.0/scancode\"\n",
    "fetch_license_info(executable_path=SCANCODE_PATH, colic_category=CATEGORY_COLIC_SCANCODE)"
   ]
  },
  {
   "cell_type": "markdown",
   "metadata": {},
   "source": [
    "**This concludes Microtask #6: executing Graal via its Python interface using the CoLic Backend.**"
   ]
  },
  {
   "cell_type": "code",
   "execution_count": null,
   "metadata": {},
   "outputs": [],
   "source": []
  }
 ],
 "metadata": {
  "kernelspec": {
   "display_name": "Python 3",
   "language": "python",
   "name": "python3"
  },
  "language_info": {
   "codemirror_mode": {
    "name": "ipython",
    "version": 3
   },
   "file_extension": ".py",
   "mimetype": "text/x-python",
   "name": "python",
   "nbconvert_exporter": "python",
   "pygments_lexer": "ipython3",
   "version": "3.6.5"
  }
 },
 "nbformat": 4,
 "nbformat_minor": 2
}
